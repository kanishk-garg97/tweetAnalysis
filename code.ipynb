{
  "nbformat": 4,
  "nbformat_minor": 0,
  "metadata": {
    "colab": {
      "provenance": []
    },
    "kernelspec": {
      "name": "python3",
      "display_name": "Python 3"
    },
    "language_info": {
      "name": "python"
    }
  },
  "cells": [
    {
      "cell_type": "markdown",
      "source": [
        "# Student ID: 2201389\n",
        "\n",
        "**You student_id is your 7/8 digit faser number.** \n",
        "\n",
        "This is a sample format for CE807: Assignment 2. You must follow the format.\n",
        "The code will have three broad sections, and additional section, if needed,\n",
        "\n",
        "\n",
        "1.   Common Codes\n",
        "2.   Method/model 1 Specific Codes\n",
        "3.   Method/model 2 Specific Codes\n",
        "4.   Other Method/model Codes, if any\n",
        "\n",
        "**You must have `train_method1`, `test_method1` for method 1 and `train_method2`, `test_method2` for method 2 to perform full training and testing. This will be evaluated automatically, without this your code will fail and no marked.** \n",
        "\n",
        "You code should be proverly indended, print as much as possible, follow standard coding (https://peps.python.org/pep-0008/) and documentaion (https://colab.research.google.com/github/jakevdp/PythonDataScienceHandbook/blob/master/notebooks/01.01-Help-And-Documentation.ipynb) practices. \n",
        "\n",
        "Before each `code cell`, you must have a `text cell` which explain what code cell is going to do. For each function/class, you need to properly document what are it's input, functionality and output. \n",
        "\n",
        "If you are using any non-standard library, you must have command to install that, for example `pip install datasets`. \n",
        "\n",
        "You must print `train`, `validation` and `test` performance measures.\n",
        "\n",
        "You must also print `train` and `validation` loss in each `epoch`, wherever you are using `epoch`, say in any deep learning algorithms.\n",
        "\n",
        "Your code must\n",
        "\n",
        "*   To reproducibality of the results you must use a `seed`, you have to set seed in `torch`, `numpy` etc, use same seed everywhere **and your Student ID should be your seed**. \n",
        "*   read dataset from './CE807/Assignment2/student_id/' folder which will have 3 files [`train.csv`, `val.csv`, `test.csv`]\n",
        "*   save model after finishing the training in './CE807/Assignment2/student_id/models/XXX/' where XXX = [1,2] for both models\n",
        "*   at testing time you will load models from './CE807/Assignment2/student_id/models/XXX/' where XXX = [1,2] and then test on your data, and save the output in the same folder\n",
        "*   For Data Size Effect, you model and output save directories are './CE807/Assignment2/student_id/models/XXX/YYY/' where XXX = [1,2] and YYY = [25,50, 75,100]\n",
        "*   **Your output file based on the test file will be named `output_test.csv` and will have fields `id`, `tweet`, `label` and `out_label`** Note that, `id`, `tweet`, `label` come from `test.csv`, and `out_label` out_label your model’s output, where out_label =[OFF,NOT]. You need to save file in the respective model folders. \n",
        "\n",
        "\n",
        "\n",
        "\n",
        "**Install and import all required libraries first before starting to code.**\n",
        "\n",
        "\n",
        "\n",
        "\n",
        "\n",
        "\n"
      ],
      "metadata": {
        "id": "VgzEm1gDYBUp"
      }
    },
    {
      "cell_type": "markdown",
      "source": [
        "Let's install all require libraries. For example, `transformers`"
      ],
      "metadata": {
        "id": "_3ZWJlO6JOqY"
      }
    },
    {
      "cell_type": "code",
      "source": [
        "!pip install transformers"
      ],
      "metadata": {
        "id": "81A_4_dKJV4Y",
        "colab": {
          "base_uri": "https://localhost:8080/"
        },
        "outputId": "e3f2d02c-dc69-465b-fa18-8f68854dc894"
      },
      "execution_count": 1,
      "outputs": [
        {
          "output_type": "stream",
          "name": "stdout",
          "text": [
            "Looking in indexes: https://pypi.org/simple, https://us-python.pkg.dev/colab-wheels/public/simple/\n",
            "Collecting transformers\n",
            "  Downloading transformers-4.28.1-py3-none-any.whl (7.0 MB)\n",
            "\u001b[2K     \u001b[90m━━━━━━━━━━━━━━━━━━━━━━━━━━━━━━━━━━━━━━━━\u001b[0m \u001b[32m7.0/7.0 MB\u001b[0m \u001b[31m48.8 MB/s\u001b[0m eta \u001b[36m0:00:00\u001b[0m\n",
            "\u001b[?25hRequirement already satisfied: pyyaml>=5.1 in /usr/local/lib/python3.9/dist-packages (from transformers) (6.0)\n",
            "Requirement already satisfied: regex!=2019.12.17 in /usr/local/lib/python3.9/dist-packages (from transformers) (2022.10.31)\n",
            "Requirement already satisfied: numpy>=1.17 in /usr/local/lib/python3.9/dist-packages (from transformers) (1.22.4)\n",
            "Requirement already satisfied: requests in /usr/local/lib/python3.9/dist-packages (from transformers) (2.27.1)\n",
            "Collecting tokenizers!=0.11.3,<0.14,>=0.11.1\n",
            "  Downloading tokenizers-0.13.3-cp39-cp39-manylinux_2_17_x86_64.manylinux2014_x86_64.whl (7.8 MB)\n",
            "\u001b[2K     \u001b[90m━━━━━━━━━━━━━━━━━━━━━━━━━━━━━━━━━━━━━━━━\u001b[0m \u001b[32m7.8/7.8 MB\u001b[0m \u001b[31m26.5 MB/s\u001b[0m eta \u001b[36m0:00:00\u001b[0m\n",
            "\u001b[?25hCollecting huggingface-hub<1.0,>=0.11.0\n",
            "  Downloading huggingface_hub-0.14.0-py3-none-any.whl (224 kB)\n",
            "\u001b[2K     \u001b[90m━━━━━━━━━━━━━━━━━━━━━━━━━━━━━━━━━━━━━━\u001b[0m \u001b[32m224.2/224.2 kB\u001b[0m \u001b[31m16.8 MB/s\u001b[0m eta \u001b[36m0:00:00\u001b[0m\n",
            "\u001b[?25hRequirement already satisfied: filelock in /usr/local/lib/python3.9/dist-packages (from transformers) (3.11.0)\n",
            "Requirement already satisfied: tqdm>=4.27 in /usr/local/lib/python3.9/dist-packages (from transformers) (4.65.0)\n",
            "Requirement already satisfied: packaging>=20.0 in /usr/local/lib/python3.9/dist-packages (from transformers) (23.1)\n",
            "Requirement already satisfied: typing-extensions>=3.7.4.3 in /usr/local/lib/python3.9/dist-packages (from huggingface-hub<1.0,>=0.11.0->transformers) (4.5.0)\n",
            "Requirement already satisfied: fsspec in /usr/local/lib/python3.9/dist-packages (from huggingface-hub<1.0,>=0.11.0->transformers) (2023.4.0)\n",
            "Requirement already satisfied: urllib3<1.27,>=1.21.1 in /usr/local/lib/python3.9/dist-packages (from requests->transformers) (1.26.15)\n",
            "Requirement already satisfied: charset-normalizer~=2.0.0 in /usr/local/lib/python3.9/dist-packages (from requests->transformers) (2.0.12)\n",
            "Requirement already satisfied: idna<4,>=2.5 in /usr/local/lib/python3.9/dist-packages (from requests->transformers) (3.4)\n",
            "Requirement already satisfied: certifi>=2017.4.17 in /usr/local/lib/python3.9/dist-packages (from requests->transformers) (2022.12.7)\n",
            "Installing collected packages: tokenizers, huggingface-hub, transformers\n",
            "Successfully installed huggingface-hub-0.14.0 tokenizers-0.13.3 transformers-4.28.1\n"
          ]
        }
      ]
    },
    {
      "cell_type": "markdown",
      "source": [
        "Let's import all require libraries. \n",
        "For example, `numpy`"
      ],
      "metadata": {
        "id": "U5XEt6asIi3Q"
      }
    },
    {
      "cell_type": "code",
      "source": [
        "import numpy as np\n",
        "import os\n",
        "import pandas as pd\n",
        "import tensorflow as tf\n",
        "from sklearn.metrics import f1_score\n",
        "from tensorflow.keras.preprocessing.text import Tokenizer\n",
        "from tensorflow.keras.preprocessing.sequence import pad_sequences\n",
        "from sklearn.model_selection import train_test_split\n",
        "import nltk\n",
        "from nltk.corpus import stopwords\n",
        "from nltk.stem import WordNetLemmatizer\n",
        "import re\n",
        "from pickle import NONE\n",
        "import nltk\n",
        "\n",
        "nltk.download('punkt')\n",
        "nltk.download('stopwords')\n",
        "nltk.download('wordnet')\n",
        "\n",
        "from nltk.stem import WordNetLemmatizer\n",
        "from nltk.corpus import stopwords\n",
        "from nltk.tokenize import word_tokenize\n",
        "from tensorflow.keras import backend as K\n",
        "from tensorflow.keras.models import Sequential\n",
        "from tensorflow.keras.layers import Dense, Embedding, Flatten, Dropout\n",
        "from tensorflow.keras.callbacks import EarlyStopping\n",
        "from tensorflow.keras.regularizers import l2\n",
        "from tensorflow.keras.optimizers import Adam\n",
        "import joblib\n",
        "from sklearn.feature_extraction.text import TfidfVectorizer\n",
        "from sklearn.pipeline import make_pipeline\n",
        "from sklearn.svm import SVC\n",
        "from sklearn.metrics import accuracy_score, recall_score, precision_score, f1_score, confusion_matrix, classification_report\n",
        "import seaborn as sns\n",
        "import matplotlib.pyplot as plt\n",
        "from sklearn.ensemble import AdaBoostClassifier\n",
        "from sklearn.tree import DecisionTreeClassifier\n",
        "from sklearn.feature_extraction.text import CountVectorizer\n",
        "import pandas as pd\n",
        "import pickle"
      ],
      "metadata": {
        "id": "TKEZRYhIImbg",
        "colab": {
          "base_uri": "https://localhost:8080/"
        },
        "outputId": "3eaed646-98d4-4eb6-f358-b567b9131a38"
      },
      "execution_count": 2,
      "outputs": [
        {
          "output_type": "stream",
          "name": "stderr",
          "text": [
            "[nltk_data] Downloading package punkt to /root/nltk_data...\n",
            "[nltk_data]   Package punkt is already up-to-date!\n",
            "[nltk_data] Downloading package stopwords to /root/nltk_data...\n",
            "[nltk_data]   Package stopwords is already up-to-date!\n",
            "[nltk_data] Downloading package wordnet to /root/nltk_data...\n",
            "[nltk_data]   Package wordnet is already up-to-date!\n"
          ]
        }
      ]
    },
    {
      "cell_type": "markdown",
      "source": [
        "**Let's put your student id as a variable, that you will use different places**"
      ],
      "metadata": {
        "id": "pd5kSsAPZoE6"
      }
    },
    {
      "cell_type": "code",
      "source": [
        "student_id = 2201389 # Note this is an interger and you need to input your id"
      ],
      "metadata": {
        "id": "rqP6pp_3ZkVy"
      },
      "execution_count": 3,
      "outputs": []
    },
    {
      "cell_type": "markdown",
      "source": [
        "Let's set `seed` for all libraries like `torch`, `numpy` etc as my student id"
      ],
      "metadata": {
        "id": "RiLUrQ-3zC6V"
      }
    },
    {
      "cell_type": "code",
      "source": [
        "# set same seeds for all libraries\n",
        "\n",
        "#numpy seed\n",
        "np.random.seed(student_id)"
      ],
      "metadata": {
        "id": "TYUn2tj3zCFq"
      },
      "execution_count": 4,
      "outputs": []
    },
    {
      "cell_type": "markdown",
      "source": [
        "# Common Codes \n",
        "\n",
        "In this section you will write all common codes, for examples\n",
        "\n",
        "\n",
        "*   Data read\n",
        "*   Data Splitting\n",
        "*   Performance Matrics\n",
        "*   Print Dataset Statistics\n",
        "*   Saving model and output\n",
        "*   Loading Model and output\n",
        "*   etc\n",
        "\n",
        "\n"
      ],
      "metadata": {
        "id": "Dlj_VQrkbLgM"
      }
    },
    {
      "cell_type": "markdown",
      "source": [
        "**Let's first allow the GDrive access and set data and model paths**\n",
        "\n",
        "For examples, \n",
        "\n",
        "student_id = 1234567\n",
        "\n",
        "set GOOGLE_DRIVE_PATH_AFTER_MYDRIVE = ‘./CE807/Assignment2/student_id/’ in your GDrive\n",
        "\n",
        "now set all global variable, \n",
        "(Example for model 1 with 25% of data)\n",
        "\n",
        "train_file = os.path.join(GOOGLE_DRIVE_PATH_AFTER_MYDRIVE, 'train.csv')\n",
        "\n",
        "MODEL_1_DIRECTORY = os.path.join('gdrive', 'MyDrive', GOOGLE_DRIVE_PATH, ‘models’, ‘1’)\n",
        "\n",
        "MODEL_1_25_DIRECTORY = os.path.join('MODEL_1_DIRECTORY',‘25’)\n",
        "\n",
        "model_1_25_output_test_file = os.path.join(MODEL_1_25_DIRECTORY,'output_test.csv')\n",
        "\n",
        "Sample output directory and file structure: https://drive.google.com/drive/folders/1okgSzgGiwPYYFp7NScEt9MNVolOlld1d?usp=share_link   "
      ],
      "metadata": {
        "id": "uOESFmIPn_nr"
      }
    },
    {
      "cell_type": "code",
      "source": [
        "# Mount Google Drive\n",
        "from google.colab import drive\n",
        "drive.mount('/content/gdrive', force_remount=True)"
      ],
      "metadata": {
        "id": "L1kvIe1NbDoS",
        "colab": {
          "base_uri": "https://localhost:8080/"
        },
        "outputId": "bd9b1295-52aa-4192-927c-61fa3a44cb0f"
      },
      "execution_count": 5,
      "outputs": [
        {
          "output_type": "stream",
          "name": "stdout",
          "text": [
            "Mounted at /content/gdrive\n"
          ]
        }
      ]
    },
    {
      "cell_type": "code",
      "source": [
        "# Add your code to initialize GDrive and data and models paths\n",
        "\n",
        "# TODO: Fill in the Google Drive path where you uploaded the assignment, data and code\n",
        "# Example: If your student_id is 1234567 then your directory will be './CE807/Assignment2/1234567/' \n",
        "\n",
        "GOOGLE_DRIVE_PATH_AFTER_MYDRIVE = os.path.join('./CE807/Assignment2/',str(student_id)) # Make sure to update with your student_id and student_id is an integer\n",
        "GOOGLE_DRIVE_PATH = os.path.join('gdrive', 'MyDrive', GOOGLE_DRIVE_PATH_AFTER_MYDRIVE)\n",
        "print('List files: ', os.listdir(GOOGLE_DRIVE_PATH))\n",
        "\n",
        "train_file = os.path.join(GOOGLE_DRIVE_PATH, 'train.csv')\n",
        "print('Train file: ', train_file)\n",
        "\n",
        "MODEL_1_DIRECTORY = os.path.join(GOOGLE_DRIVE_PATH, 'models', '1') # Model 1 directory\n",
        "print('Model 1 directory: ', MODEL_1_DIRECTORY)\n",
        "\n",
        "MODEL_1_25_DIRECTORY = os.path.join(MODEL_1_DIRECTORY,'25') # Model 1 trained using 25% of train data directory\n",
        "print('Model 1 directory with 25% data: ', MODEL_1_25_DIRECTORY)\n",
        "\n",
        "model_1_25_output_test_file = os.path.join(MODEL_1_25_DIRECTORY, 'output_test.csv') # Output file using Model 1 trained using 25% of train data \n",
        "print('Output file name using model 1 using 25% of train data: ',model_1_25_output_test_file)\n",
        "# You need to do this for both models and all data sizes \n"
      ],
      "metadata": {
        "colab": {
          "base_uri": "https://localhost:8080/"
        },
        "id": "-WKnbP3roLTj",
        "outputId": "0ca9dddf-7c1d-49f6-bb1f-21c646473342"
      },
      "execution_count": 6,
      "outputs": [
        {
          "output_type": "stream",
          "name": "stdout",
          "text": [
            "List files:  ['test.csv', 'valid.csv', 'train.csv', 'models', 'train_3.csv', 'train_2.csv', 'train_1.csv', 'train_4.csv', 'code.ipynb']\n",
            "Train file:  gdrive/MyDrive/./CE807/Assignment2/2201389/train.csv\n",
            "Model 1 directory:  gdrive/MyDrive/./CE807/Assignment2/2201389/models/1\n",
            "Model 1 directory with 25% data:  gdrive/MyDrive/./CE807/Assignment2/2201389/models/1/25\n",
            "Output file name using model 1 using 25% of train data:  gdrive/MyDrive/./CE807/Assignment2/2201389/models/1/25/output_test.csv\n"
          ]
        }
      ]
    },
    {
      "cell_type": "code",
      "source": [
        "\n",
        "# Define directory paths\n",
        "MODEL_1_DIRECTORY = os.path.join(GOOGLE_DRIVE_PATH, 'models', '1')\n",
        "MODEL_2_DIRECTORY = os.path.join(GOOGLE_DRIVE_PATH, 'models', '2')\n",
        "\n",
        "MODEL_1_25_DIRECTORY = os.path.join(MODEL_1_DIRECTORY, '25')\n",
        "MODEL_1_50_DIRECTORY = os.path.join(MODEL_1_DIRECTORY, '50')\n",
        "MODEL_1_75_DIRECTORY = os.path.join(MODEL_1_DIRECTORY, '75')\n",
        "MODEL_1_100_DIRECTORY = os.path.join(MODEL_1_DIRECTORY, '100')\n",
        "\n",
        "MODEL_2_25_DIRECTORY = os.path.join(MODEL_2_DIRECTORY, '25')\n",
        "MODEL_2_50_DIRECTORY = os.path.join(MODEL_2_DIRECTORY, '50')\n",
        "MODEL_2_75_DIRECTORY = os.path.join(MODEL_2_DIRECTORY, '75')\n",
        "MODEL_2_100_DIRECTORY = os.path.join(MODEL_2_DIRECTORY, '100')\n",
        "\n",
        "# Create directories if they don't exist\n",
        "os.makedirs(MODEL_1_25_DIRECTORY, exist_ok=True)\n",
        "os.makedirs(MODEL_1_50_DIRECTORY, exist_ok=True)\n",
        "os.makedirs(MODEL_1_75_DIRECTORY, exist_ok=True)\n",
        "os.makedirs(MODEL_1_100_DIRECTORY, exist_ok=True)\n",
        "\n",
        "os.makedirs(MODEL_2_25_DIRECTORY, exist_ok=True)\n",
        "os.makedirs(MODEL_2_50_DIRECTORY, exist_ok=True)\n",
        "os.makedirs(MODEL_2_75_DIRECTORY, exist_ok=True)\n",
        "os.makedirs(MODEL_2_100_DIRECTORY, exist_ok=True)\n",
        "\n",
        "# Print directory paths\n",
        "print('Model 1 directory: ', MODEL_1_DIRECTORY)\n",
        "print('Model 2 directory: ', MODEL_2_DIRECTORY)\n",
        "print('Model 1 directory with 25% data: ', MODEL_1_25_DIRECTORY)\n",
        "print('Output file name using model 1 using 25% of train data: ', os.path.join(MODEL_1_25_DIRECTORY, 'output_test.csv'))\n",
        "print('Model 1 directory with 50% data: ', MODEL_1_50_DIRECTORY)\n",
        "print('Output file name using model 1 using 50% of train data: ', os.path.join(MODEL_1_50_DIRECTORY, 'output_test.csv'))\n",
        "print('Model 1 directory with 75% data: ', MODEL_1_75_DIRECTORY)\n",
        "print('Output file name using model 1 using 75% of train data: ', os.path.join(MODEL_1_75_DIRECTORY, 'output_test.csv'))\n",
        "print('Model 1 directory with 100% data: ', MODEL_1_100_DIRECTORY)\n",
        "print('Output file name using model 1 using 100% of train data: ', os.path.join(MODEL_1_100_DIRECTORY, 'output_test.csv'))\n",
        "print('Model 2 directory with 25% data: ', MODEL_2_25_DIRECTORY)\n",
        "print('Output file name using model 2 using 25% of train data: ', os.path.join(MODEL_2_25_DIRECTORY, 'output_test.csv'))\n",
        "print('Model 2 directory with 50% data: ', MODEL_2_50_DIRECTORY)\n",
        "print('Output file name using model 2 using 50% of train data: ', os.path.join(MODEL_2_50_DIRECTORY, 'output_test.csv'))\n",
        "print('Model 2 directory with 75% data: ', MODEL_2_75_DIRECTORY)\n",
        "print('Output file name using model 2 using 75% of train data: ', os.path.join(MODEL_2_75_DIRECTORY, 'output_test.csv'))\n",
        "print('Model 2 directory with 100% data: ', MODEL_2_100_DIRECTORY)\n",
        "print('Output file name using model 2 using 100% of train data: ', os.path.join(MODEL_2_100_DIRECTORY, 'output_test.csv'))"
      ],
      "metadata": {
        "colab": {
          "base_uri": "https://localhost:8080/"
        },
        "id": "v46sqNjf3d8O",
        "outputId": "62543e65-1220-4ecc-a462-4cbf53ee0c4c"
      },
      "execution_count": 7,
      "outputs": [
        {
          "output_type": "stream",
          "name": "stdout",
          "text": [
            "Model 1 directory:  gdrive/MyDrive/./CE807/Assignment2/2201389/models/1\n",
            "Model 2 directory:  gdrive/MyDrive/./CE807/Assignment2/2201389/models/2\n",
            "Model 1 directory with 25% data:  gdrive/MyDrive/./CE807/Assignment2/2201389/models/1/25\n",
            "Output file name using model 1 using 25% of train data:  gdrive/MyDrive/./CE807/Assignment2/2201389/models/1/25/output_test.csv\n",
            "Model 1 directory with 50% data:  gdrive/MyDrive/./CE807/Assignment2/2201389/models/1/50\n",
            "Output file name using model 1 using 50% of train data:  gdrive/MyDrive/./CE807/Assignment2/2201389/models/1/50/output_test.csv\n",
            "Model 1 directory with 75% data:  gdrive/MyDrive/./CE807/Assignment2/2201389/models/1/75\n",
            "Output file name using model 1 using 75% of train data:  gdrive/MyDrive/./CE807/Assignment2/2201389/models/1/75/output_test.csv\n",
            "Model 1 directory with 100% data:  gdrive/MyDrive/./CE807/Assignment2/2201389/models/1/100\n",
            "Output file name using model 1 using 100% of train data:  gdrive/MyDrive/./CE807/Assignment2/2201389/models/1/100/output_test.csv\n",
            "Model 2 directory with 25% data:  gdrive/MyDrive/./CE807/Assignment2/2201389/models/2/25\n",
            "Output file name using model 2 using 25% of train data:  gdrive/MyDrive/./CE807/Assignment2/2201389/models/2/25/output_test.csv\n",
            "Model 2 directory with 50% data:  gdrive/MyDrive/./CE807/Assignment2/2201389/models/2/50\n",
            "Output file name using model 2 using 50% of train data:  gdrive/MyDrive/./CE807/Assignment2/2201389/models/2/50/output_test.csv\n",
            "Model 2 directory with 75% data:  gdrive/MyDrive/./CE807/Assignment2/2201389/models/2/75\n",
            "Output file name using model 2 using 75% of train data:  gdrive/MyDrive/./CE807/Assignment2/2201389/models/2/75/output_test.csv\n",
            "Model 2 directory with 100% data:  gdrive/MyDrive/./CE807/Assignment2/2201389/models/2/100\n",
            "Output file name using model 2 using 100% of train data:  gdrive/MyDrive/./CE807/Assignment2/2201389/models/2/100/output_test.csv\n"
          ]
        }
      ]
    },
    {
      "cell_type": "markdown",
      "source": [
        "Let's see train file"
      ],
      "metadata": {
        "id": "0pWvXDghtafa"
      }
    },
    {
      "cell_type": "code",
      "source": [
        "train_data = pd.read_csv(train_file)\n",
        "train_data.head()"
      ],
      "metadata": {
        "colab": {
          "base_uri": "https://localhost:8080/",
          "height": 204
        },
        "id": "DE20RqYGtZjZ",
        "outputId": "1ba4319e-6f72-4e7a-fa15-ea8aab0b1de8"
      },
      "execution_count": 8,
      "outputs": [
        {
          "output_type": "execute_result",
          "data": {
            "text/plain": [
              "      id                                              tweet label\n",
              "0  42884  @USER I’m done with you as well. An INTENTIONA...   NOT\n",
              "1  92152  I now have over 6k followers.  Only 94k to go ...   NOT\n",
              "2  65475  @USER Tom was bought! He is more interested in...   NOT\n",
              "3  22144  @USER @USER Even her brother thinks she is a m...   OFF\n",
              "4  81048  @USER @USER @USER @USER @USER I can understand...   OFF"
            ],
            "text/html": [
              "\n",
              "  <div id=\"df-260f37ad-9b78-494f-8a58-df63054fa937\">\n",
              "    <div class=\"colab-df-container\">\n",
              "      <div>\n",
              "<style scoped>\n",
              "    .dataframe tbody tr th:only-of-type {\n",
              "        vertical-align: middle;\n",
              "    }\n",
              "\n",
              "    .dataframe tbody tr th {\n",
              "        vertical-align: top;\n",
              "    }\n",
              "\n",
              "    .dataframe thead th {\n",
              "        text-align: right;\n",
              "    }\n",
              "</style>\n",
              "<table border=\"1\" class=\"dataframe\">\n",
              "  <thead>\n",
              "    <tr style=\"text-align: right;\">\n",
              "      <th></th>\n",
              "      <th>id</th>\n",
              "      <th>tweet</th>\n",
              "      <th>label</th>\n",
              "    </tr>\n",
              "  </thead>\n",
              "  <tbody>\n",
              "    <tr>\n",
              "      <th>0</th>\n",
              "      <td>42884</td>\n",
              "      <td>@USER I’m done with you as well. An INTENTIONA...</td>\n",
              "      <td>NOT</td>\n",
              "    </tr>\n",
              "    <tr>\n",
              "      <th>1</th>\n",
              "      <td>92152</td>\n",
              "      <td>I now have over 6k followers.  Only 94k to go ...</td>\n",
              "      <td>NOT</td>\n",
              "    </tr>\n",
              "    <tr>\n",
              "      <th>2</th>\n",
              "      <td>65475</td>\n",
              "      <td>@USER Tom was bought! He is more interested in...</td>\n",
              "      <td>NOT</td>\n",
              "    </tr>\n",
              "    <tr>\n",
              "      <th>3</th>\n",
              "      <td>22144</td>\n",
              "      <td>@USER @USER Even her brother thinks she is a m...</td>\n",
              "      <td>OFF</td>\n",
              "    </tr>\n",
              "    <tr>\n",
              "      <th>4</th>\n",
              "      <td>81048</td>\n",
              "      <td>@USER @USER @USER @USER @USER I can understand...</td>\n",
              "      <td>OFF</td>\n",
              "    </tr>\n",
              "  </tbody>\n",
              "</table>\n",
              "</div>\n",
              "      <button class=\"colab-df-convert\" onclick=\"convertToInteractive('df-260f37ad-9b78-494f-8a58-df63054fa937')\"\n",
              "              title=\"Convert this dataframe to an interactive table.\"\n",
              "              style=\"display:none;\">\n",
              "        \n",
              "  <svg xmlns=\"http://www.w3.org/2000/svg\" height=\"24px\"viewBox=\"0 0 24 24\"\n",
              "       width=\"24px\">\n",
              "    <path d=\"M0 0h24v24H0V0z\" fill=\"none\"/>\n",
              "    <path d=\"M18.56 5.44l.94 2.06.94-2.06 2.06-.94-2.06-.94-.94-2.06-.94 2.06-2.06.94zm-11 1L8.5 8.5l.94-2.06 2.06-.94-2.06-.94L8.5 2.5l-.94 2.06-2.06.94zm10 10l.94 2.06.94-2.06 2.06-.94-2.06-.94-.94-2.06-.94 2.06-2.06.94z\"/><path d=\"M17.41 7.96l-1.37-1.37c-.4-.4-.92-.59-1.43-.59-.52 0-1.04.2-1.43.59L10.3 9.45l-7.72 7.72c-.78.78-.78 2.05 0 2.83L4 21.41c.39.39.9.59 1.41.59.51 0 1.02-.2 1.41-.59l7.78-7.78 2.81-2.81c.8-.78.8-2.07 0-2.86zM5.41 20L4 18.59l7.72-7.72 1.47 1.35L5.41 20z\"/>\n",
              "  </svg>\n",
              "      </button>\n",
              "      \n",
              "  <style>\n",
              "    .colab-df-container {\n",
              "      display:flex;\n",
              "      flex-wrap:wrap;\n",
              "      gap: 12px;\n",
              "    }\n",
              "\n",
              "    .colab-df-convert {\n",
              "      background-color: #E8F0FE;\n",
              "      border: none;\n",
              "      border-radius: 50%;\n",
              "      cursor: pointer;\n",
              "      display: none;\n",
              "      fill: #1967D2;\n",
              "      height: 32px;\n",
              "      padding: 0 0 0 0;\n",
              "      width: 32px;\n",
              "    }\n",
              "\n",
              "    .colab-df-convert:hover {\n",
              "      background-color: #E2EBFA;\n",
              "      box-shadow: 0px 1px 2px rgba(60, 64, 67, 0.3), 0px 1px 3px 1px rgba(60, 64, 67, 0.15);\n",
              "      fill: #174EA6;\n",
              "    }\n",
              "\n",
              "    [theme=dark] .colab-df-convert {\n",
              "      background-color: #3B4455;\n",
              "      fill: #D2E3FC;\n",
              "    }\n",
              "\n",
              "    [theme=dark] .colab-df-convert:hover {\n",
              "      background-color: #434B5C;\n",
              "      box-shadow: 0px 1px 3px 1px rgba(0, 0, 0, 0.15);\n",
              "      filter: drop-shadow(0px 1px 2px rgba(0, 0, 0, 0.3));\n",
              "      fill: #FFFFFF;\n",
              "    }\n",
              "  </style>\n",
              "\n",
              "      <script>\n",
              "        const buttonEl =\n",
              "          document.querySelector('#df-260f37ad-9b78-494f-8a58-df63054fa937 button.colab-df-convert');\n",
              "        buttonEl.style.display =\n",
              "          google.colab.kernel.accessAllowed ? 'block' : 'none';\n",
              "\n",
              "        async function convertToInteractive(key) {\n",
              "          const element = document.querySelector('#df-260f37ad-9b78-494f-8a58-df63054fa937');\n",
              "          const dataTable =\n",
              "            await google.colab.kernel.invokeFunction('convertToInteractive',\n",
              "                                                     [key], {});\n",
              "          if (!dataTable) return;\n",
              "\n",
              "          const docLinkHtml = 'Like what you see? Visit the ' +\n",
              "            '<a target=\"_blank\" href=https://colab.research.google.com/notebooks/data_table.ipynb>data table notebook</a>'\n",
              "            + ' to learn more about interactive tables.';\n",
              "          element.innerHTML = '';\n",
              "          dataTable['output_type'] = 'display_data';\n",
              "          await google.colab.output.renderOutput(dataTable, element);\n",
              "          const docLink = document.createElement('div');\n",
              "          docLink.innerHTML = docLinkHtml;\n",
              "          element.appendChild(docLink);\n",
              "        }\n",
              "      </script>\n",
              "    </div>\n",
              "  </div>\n",
              "  "
            ]
          },
          "metadata": {},
          "execution_count": 8
        }
      ]
    },
    {
      "cell_type": "markdown",
      "source": [
        "Let's show you a sample output file. Notice all fields, `out_label` is your model's output for that `tweet` and `id`"
      ],
      "metadata": {
        "id": "Xnm3sUf-q0g4"
      }
    },
    {
      "cell_type": "code",
      "source": [
        "df = pd.read_csv(model_1_25_output_test_file)\n",
        "df.head()"
      ],
      "metadata": {
        "colab": {
          "base_uri": "https://localhost:8080/",
          "height": 204
        },
        "id": "dptNCuqjq5k_",
        "outputId": "3348f616-4aa5-48a4-cf89-a94c50d189f7"
      },
      "execution_count": 9,
      "outputs": [
        {
          "output_type": "execute_result",
          "data": {
            "text/plain": [
              "                                               tweet  label  output label\n",
              "0  democrat support antifa muslim brotherhood m i...      1             0\n",
              "1  revered conservative hated progressivessociali...      0             0\n",
              "2                               first reduces ca url      0             0\n",
              "3  getting news still parole always make smile fi...      0             0\n",
              "4       unity demo oppose farright enough enough url      1             0"
            ],
            "text/html": [
              "\n",
              "  <div id=\"df-a7e6762a-8541-4a1e-a2ec-c206aaa7630d\">\n",
              "    <div class=\"colab-df-container\">\n",
              "      <div>\n",
              "<style scoped>\n",
              "    .dataframe tbody tr th:only-of-type {\n",
              "        vertical-align: middle;\n",
              "    }\n",
              "\n",
              "    .dataframe tbody tr th {\n",
              "        vertical-align: top;\n",
              "    }\n",
              "\n",
              "    .dataframe thead th {\n",
              "        text-align: right;\n",
              "    }\n",
              "</style>\n",
              "<table border=\"1\" class=\"dataframe\">\n",
              "  <thead>\n",
              "    <tr style=\"text-align: right;\">\n",
              "      <th></th>\n",
              "      <th>tweet</th>\n",
              "      <th>label</th>\n",
              "      <th>output label</th>\n",
              "    </tr>\n",
              "  </thead>\n",
              "  <tbody>\n",
              "    <tr>\n",
              "      <th>0</th>\n",
              "      <td>democrat support antifa muslim brotherhood m i...</td>\n",
              "      <td>1</td>\n",
              "      <td>0</td>\n",
              "    </tr>\n",
              "    <tr>\n",
              "      <th>1</th>\n",
              "      <td>revered conservative hated progressivessociali...</td>\n",
              "      <td>0</td>\n",
              "      <td>0</td>\n",
              "    </tr>\n",
              "    <tr>\n",
              "      <th>2</th>\n",
              "      <td>first reduces ca url</td>\n",
              "      <td>0</td>\n",
              "      <td>0</td>\n",
              "    </tr>\n",
              "    <tr>\n",
              "      <th>3</th>\n",
              "      <td>getting news still parole always make smile fi...</td>\n",
              "      <td>0</td>\n",
              "      <td>0</td>\n",
              "    </tr>\n",
              "    <tr>\n",
              "      <th>4</th>\n",
              "      <td>unity demo oppose farright enough enough url</td>\n",
              "      <td>1</td>\n",
              "      <td>0</td>\n",
              "    </tr>\n",
              "  </tbody>\n",
              "</table>\n",
              "</div>\n",
              "      <button class=\"colab-df-convert\" onclick=\"convertToInteractive('df-a7e6762a-8541-4a1e-a2ec-c206aaa7630d')\"\n",
              "              title=\"Convert this dataframe to an interactive table.\"\n",
              "              style=\"display:none;\">\n",
              "        \n",
              "  <svg xmlns=\"http://www.w3.org/2000/svg\" height=\"24px\"viewBox=\"0 0 24 24\"\n",
              "       width=\"24px\">\n",
              "    <path d=\"M0 0h24v24H0V0z\" fill=\"none\"/>\n",
              "    <path d=\"M18.56 5.44l.94 2.06.94-2.06 2.06-.94-2.06-.94-.94-2.06-.94 2.06-2.06.94zm-11 1L8.5 8.5l.94-2.06 2.06-.94-2.06-.94L8.5 2.5l-.94 2.06-2.06.94zm10 10l.94 2.06.94-2.06 2.06-.94-2.06-.94-.94-2.06-.94 2.06-2.06.94z\"/><path d=\"M17.41 7.96l-1.37-1.37c-.4-.4-.92-.59-1.43-.59-.52 0-1.04.2-1.43.59L10.3 9.45l-7.72 7.72c-.78.78-.78 2.05 0 2.83L4 21.41c.39.39.9.59 1.41.59.51 0 1.02-.2 1.41-.59l7.78-7.78 2.81-2.81c.8-.78.8-2.07 0-2.86zM5.41 20L4 18.59l7.72-7.72 1.47 1.35L5.41 20z\"/>\n",
              "  </svg>\n",
              "      </button>\n",
              "      \n",
              "  <style>\n",
              "    .colab-df-container {\n",
              "      display:flex;\n",
              "      flex-wrap:wrap;\n",
              "      gap: 12px;\n",
              "    }\n",
              "\n",
              "    .colab-df-convert {\n",
              "      background-color: #E8F0FE;\n",
              "      border: none;\n",
              "      border-radius: 50%;\n",
              "      cursor: pointer;\n",
              "      display: none;\n",
              "      fill: #1967D2;\n",
              "      height: 32px;\n",
              "      padding: 0 0 0 0;\n",
              "      width: 32px;\n",
              "    }\n",
              "\n",
              "    .colab-df-convert:hover {\n",
              "      background-color: #E2EBFA;\n",
              "      box-shadow: 0px 1px 2px rgba(60, 64, 67, 0.3), 0px 1px 3px 1px rgba(60, 64, 67, 0.15);\n",
              "      fill: #174EA6;\n",
              "    }\n",
              "\n",
              "    [theme=dark] .colab-df-convert {\n",
              "      background-color: #3B4455;\n",
              "      fill: #D2E3FC;\n",
              "    }\n",
              "\n",
              "    [theme=dark] .colab-df-convert:hover {\n",
              "      background-color: #434B5C;\n",
              "      box-shadow: 0px 1px 3px 1px rgba(0, 0, 0, 0.15);\n",
              "      filter: drop-shadow(0px 1px 2px rgba(0, 0, 0, 0.3));\n",
              "      fill: #FFFFFF;\n",
              "    }\n",
              "  </style>\n",
              "\n",
              "      <script>\n",
              "        const buttonEl =\n",
              "          document.querySelector('#df-a7e6762a-8541-4a1e-a2ec-c206aaa7630d button.colab-df-convert');\n",
              "        buttonEl.style.display =\n",
              "          google.colab.kernel.accessAllowed ? 'block' : 'none';\n",
              "\n",
              "        async function convertToInteractive(key) {\n",
              "          const element = document.querySelector('#df-a7e6762a-8541-4a1e-a2ec-c206aaa7630d');\n",
              "          const dataTable =\n",
              "            await google.colab.kernel.invokeFunction('convertToInteractive',\n",
              "                                                     [key], {});\n",
              "          if (!dataTable) return;\n",
              "\n",
              "          const docLinkHtml = 'Like what you see? Visit the ' +\n",
              "            '<a target=\"_blank\" href=https://colab.research.google.com/notebooks/data_table.ipynb>data table notebook</a>'\n",
              "            + ' to learn more about interactive tables.';\n",
              "          element.innerHTML = '';\n",
              "          dataTable['output_type'] = 'display_data';\n",
              "          await google.colab.output.renderOutput(dataTable, element);\n",
              "          const docLink = document.createElement('div');\n",
              "          docLink.innerHTML = docLinkHtml;\n",
              "          element.appendChild(docLink);\n",
              "        }\n",
              "      </script>\n",
              "    </div>\n",
              "  </div>\n",
              "  "
            ]
          },
          "metadata": {},
          "execution_count": 9
        }
      ]
    },
    {
      "cell_type": "markdown",
      "source": [
        "We are going to use different performance matrics like Accuracy, Recall (macro), Precision (macro), F1 (macro) and Confusion Matrix for the performance evaluation. We will print all the matrics and display Confusion Matrix with proper X & Y axis labels"
      ],
      "metadata": {
        "id": "E-OjJ4REbhcj"
      }
    },
    {
      "cell_type": "code",
      "source": [
        "def compute_performance(y_true, y_pred):\n",
        "  \n",
        "    acc = accuracy_score(y_true, y_pred)\n",
        "    recall = recall_score(y_true, y_pred, average=\"macro\")\n",
        "    precision = precision_score(y_true, y_pred, average=\"macro\")\n",
        "    f_score = f1_score(y_true, y_pred, average=\"macro\")\n",
        "\n",
        "    print(\"Accuracy: {:.4f}\".format(acc))\n",
        "    print(\"Recall: {:.4f}\".format(recall))\n",
        "    print(\"Precision: {:.4f}\".format(precision))\n",
        "    print(\"F1 score: {:.4f}\".format(f_score))\n",
        "\n",
        "    cm = confusion_matrix(y_true, y_pred)\n",
        "    cm_df = pd.DataFrame(\n",
        "        cm,\n",
        "        index=[\"Actual Positive\", \"Actual Negative\"],\n",
        "        columns=[\"Predicted Positive\", \"Predicted Negative\"],\n",
        "    )\n",
        "    sns.heatmap(cm_df, annot=True, cmap=\"Blues\", fmt=\"g\", cbar=False)\n",
        "    plt.xlabel(\"Predicted Label\")\n",
        "    plt.ylabel(\"True Label\")\n",
        "    plt.show()\n",
        "\n",
        "    ##########################################################################\n",
        "    #                            END OF YOUR CODE                            #\n",
        "    ##########################################################################\n",
        "    return f_score\n"
      ],
      "metadata": {
        "id": "aLuUu5BWcTid"
      },
      "execution_count": 10,
      "outputs": []
    },
    {
      "cell_type": "markdown",
      "source": [
        "# Method 1 Start\n",
        "\n",
        "In this section you will write all details of your Method 1. \n",
        "\n",
        "You will have to enter multiple `code` and `text` cell.\n",
        "\n",
        "Your code should follow the standard ML pipeline\n",
        "\n",
        "\n",
        "*   Data reading\n",
        "*   Data clearning, if any\n",
        "*   Convert data to vector/tokenization/vectorization\n",
        "*   Model Declaration/Initialization/building\n",
        "*   Training and validation of the model using training and validation dataset \n",
        "*   Save the trained model\n",
        "*   Load and Test the model on testing set\n",
        "*   Save the output of the model\n",
        "\n",
        "\n",
        "You could add any other step(s) based on your method's requirement. \n",
        "\n",
        "After finishing the above, you need to usd splited data as defined in the assignment and then do the same for all 4 sets. Your code should not be copy-pasted 4 time, make use of `function`.\n"
      ],
      "metadata": {
        "id": "47ywe8jGSKhL"
      }
    },
    {
      "cell_type": "markdown",
      "source": [
        "### Spliting the Data"
      ],
      "metadata": {
        "id": "OHTchxOp85Xu"
      }
    },
    {
      "cell_type": "code",
      "source": [
        "# this block is used to split the data set as per the requirement.\n",
        "\n",
        "target = 'label'\n",
        "# Loading the training dataset\n",
        "train_data = pd.read_csv('/content/gdrive/MyDrive/CE807/Assignment2/2201389/train.csv')\n",
        "\n",
        "# Splitng and saving the train data into 4 and saving the data set in Gdrive.\n",
        "# 0.9 is used as we need atleast 0.1 of test data when using train_test_split method\n",
        "# to overcome used a if condition and gave last train split the whole train data set and then saved it\n",
        "for i, size in enumerate([0.25, 0.5, 0.75, 0.9]):\n",
        "\n",
        "    if i != 0.9:\n",
        "      # Split the data into train and test sets\n",
        "      train_subset, _ = train_test_split(train_data, test_size=1-size, stratify=train_data[target])\n",
        "      # Save the train subset to Google Drive\n",
        "      train_subset.to_csv(f'/content/gdrive/MyDrive/CE807/Assignment2/2201389/train_{i+1}.csv', index=False)\n",
        "    else:\n",
        "      train_subset = train_data\n",
        "      train_subset.to_csv(f'/content/gdrive/MyDrive/CE807/Assignment2/2201389/train_{i+1}.csv', index=False)\n"
      ],
      "metadata": {
        "id": "Z-bthsb3SX6o"
      },
      "execution_count": 11,
      "outputs": []
    },
    {
      "cell_type": "markdown",
      "source": [
        "### Preprocessing the data"
      ],
      "metadata": {
        "id": "zclQYtnV95Lm"
      }
    },
    {
      "cell_type": "code",
      "source": [
        "def preprocess_data(train_file):\n",
        "    # Read the data file\n",
        "    data = pd.read_csv(train_file, sep=',')\n",
        "\n",
        "    # making a copy of data to work on\n",
        "    train_data = data\n",
        "\n",
        "    # Droping the id column\n",
        "    train_data = train_data.drop('id', axis=1)\n",
        "\n",
        "    # Handling missing data\n",
        "    train_data.dropna(inplace=True)\n",
        "\n",
        "    # Handling duplicate data\n",
        "    train_data.drop_duplicates(inplace=True)\n",
        "\n",
        "    # Removing emojis\n",
        "    emoji_pattern = re.compile(\"[\"\n",
        "        u\"\\U0001F600-\\U0001F64F\"  # emoticons\n",
        "        u\"\\U0001F300-\\U0001F5FF\"  # symbols & pictographs\n",
        "        u\"\\U0001F680-\\U0001F6FF\"  # transport & map symbols\n",
        "        u\"\\U0001F1E0-\\U0001F1FF\"  # flags (iOS)\n",
        "                           \"]+\", flags=re.UNICODE)\n",
        "    train_data['tweet'] = train_data['tweet'].apply(lambda tweet: emoji_pattern.sub(r'', tweet))\n",
        "\n",
        "    # Tokenize and lemmatize remaining words in 'tweet' column\n",
        "    stop_words = set(stopwords.words('english'))\n",
        "    lemmatizer = WordNetLemmatizer()\n",
        "\n",
        "    # Removing URLs, user mentions, hashtags, non-alphabetic characters, and stop words\n",
        "    train_data['tweet'] = train_data['tweet'].apply(lambda x: ' '.join(lemmatizer.lemmatize(t) for t in word_tokenize(re.sub(r'http\\S+|@\\w+|#\\w+|[^a-zA-Z\\s]', '', x).lower()) if t not in stop_words))\n",
        "\n",
        "    # Converting the text labels into binary labels [0 - Not Offensive, 1 - Offensive]\n",
        "    train_data['label'] = train_data['label'].apply(lambda x: 0 if x == 'NOT' else 1)\n",
        "\n",
        "    return train_data"
      ],
      "metadata": {
        "id": "vQSveNAEr1-E"
      },
      "execution_count": 12,
      "outputs": []
    },
    {
      "cell_type": "markdown",
      "source": [
        "## Training Method 1 Code\n",
        "Your test code should be a stand alone code that must take `train_file`, `val_file`,  and `model_dir` as input. You could have other things as also input, but these three are must. You would load both files, and train using the `train_file` and validating using the `val_file`. You will `print` / `display`/ `plot` all performance metrics, loss(if available) and save the output model in the `model_dir`.\n",
        "\n",
        "Note that at the testing time, you need to use the same pre-processing and model. So, it would be good that you make those as seperate function/pipeline whichever it the best suited for your method. Don't copy-paste same code twice, make it a fucntion/class whichever is best. "
      ],
      "metadata": {
        "id": "1sA3OWlVbnoY"
      }
    },
    {
      "cell_type": "code",
      "source": [
        "def train_method1(train_file, val_file, model_dir):\n",
        "\n",
        "    # preprocessing the train and validation data through preprocess function\n",
        "    train_data = preprocess_data(train_file)\n",
        "    val_data = preprocess_data(val_file)\n",
        "\n",
        "    # Extracting bag-of-words features using CountVectorizer\n",
        "    count_vect = CountVectorizer()\n",
        "    train_counts = count_vect.fit_transform(train_data[\"tweet\"])\n",
        "    val_counts = count_vect.transform(val_data[\"tweet\"])\n",
        "\n",
        "    # Training Decision Tree model\n",
        "    dt_model = DecisionTreeClassifier()\n",
        "    dt_model.fit(train_counts, train_data[\"label\"])\n",
        "\n",
        "    # Training AdaBoost model \n",
        "    ab_model = AdaBoostClassifier(base_estimator=dt_model)\n",
        "    ab_model.fit(train_counts, train_data[\"label\"])\n",
        "\n",
        "    # Save model and vectorizer file into the directory and using try and catch method\n",
        "    # to catch any expection or error while saving the file\n",
        "    try:\n",
        "        os.makedirs(model_dir, exist_ok=True)\n",
        "        model_path = os.path.join(model_dir, \"model.pkl\")\n",
        "        with open(model_path, \"wb\") as f:\n",
        "            pickle.dump(ab_model, f)\n",
        "        count_vect_path = os.path.join(model_dir, \"vectorizer.pkl\")\n",
        "        with open(count_vect_path, \"wb\") as f:\n",
        "          pickle.dump(count_vect, f)\n",
        "        print(\"Model Saved Successfully.\")\n",
        "    except Exception as e:\n",
        "        print(\"Error saving AdaBoost model:\", e)\n",
        "\n",
        "    # Prediction on validation set using AdaBoost model\n",
        "    ab_preds = ab_model.predict(val_counts)\n",
        "\n",
        "    # Accuracy Calculation on validation score\n",
        "    ab_accuracy = accuracy_score(val_data[\"label\"], ab_preds)\n",
        "\n",
        "    return ab_accuracy"
      ],
      "metadata": {
        "id": "_Ux7GBKXbqq6"
      },
      "execution_count": 13,
      "outputs": []
    },
    {
      "cell_type": "markdown",
      "source": [
        "## Testing Method 1 Code\n",
        "Your test code should be a stand alone code that must take `test_file`, `model_file` and `output_dir` as input. You could have other things as also input, but these three are must. You would load both files, and generate output based on inputs. Then you will `print` / `display`/ `plot` all performance metrics, and save the output file in the `output_dir`  "
      ],
      "metadata": {
        "id": "qyJ_xv12Uy9c"
      }
    },
    {
      "cell_type": "code",
      "source": [
        "def test_method1(test_file, model_file, output_file):\n",
        "\n",
        "    # Preprocess the test data\n",
        "    test_data = preprocess_data(test_file)\n",
        "    \n",
        "    # Loading CountVectorizer from file and transform test data\n",
        "    with open(os.path.join(model_file, \"vectorizer.pkl\"), \"rb\") as f:\n",
        "        count_vect = pickle.load(f)\n",
        "    test_counts = count_vect.transform(test_data[\"tweet\"])\n",
        "\n",
        "    # Loading AdaBoost model\n",
        "    with open(os.path.join(model_file, \"model.pkl\"), \"rb\") as f:\n",
        "        ab_model = pickle.load(f)\n",
        "\n",
        "    # Making predictions on test set using the model\n",
        "    y_pred = ab_model.predict(test_counts)\n",
        "\n",
        "    #  Accuracy Calculation on test set\n",
        "    accuracy = accuracy_score(test_data[\"label\"], y_pred)\n",
        "\n",
        "    # Saving predicted output along with original data to file\n",
        "    test_data[\"output label\"] = y_pred\n",
        "    if not os.path.exists(output_file):\n",
        "        os.makedirs(output_file)\n",
        "    output_file = os.path.join(output_file, \"output_test.csv\")\n",
        "    test_data.to_csv(output_file, columns=[\"tweet\", \"label\", \"output label\"], index=False)\n",
        "\n",
        "    f1_score_method1 = compute_performance(test_data[\"label\"], y_pred)\n",
        "    return accuracy, f1_score_method1"
      ],
      "metadata": {
        "id": "43T3JqK5a484"
      },
      "execution_count": 14,
      "outputs": []
    },
    {
      "cell_type": "markdown",
      "source": [
        "## Method 1 End\n"
      ],
      "metadata": {
        "id": "ue3xIDFGSXNH"
      }
    },
    {
      "cell_type": "markdown",
      "source": [
        "# Method 2 Start\n",
        "\n",
        "In this section you will write all details of your Method 2.\n",
        " \n",
        "You will have to enter multiple `code` and `text` cell.\n",
        "\n",
        "Your code should follow the standard ML pipeline\n",
        "\n",
        "\n",
        "*   Data reading\n",
        "*   Data clearning, if any\n",
        "*   Convert data to vector/tokenization/vectorization\n",
        "*   Model Declaration/Initialization/building\n",
        "*   Training and validation of the model using training and validation dataset \n",
        "*   Save the trained model\n",
        "*   Load and Test the model on testing set\n",
        "*   Save the output of the model\n",
        "\n",
        "You could add any other step(s) based on your method's requirement. \n",
        "\n",
        "After finishing the above, you need to usd splited data as defined in the assignment and then do the same for all 4 sets. Your code should not be copy-pasted 4 time, make use of `function`.\n"
      ],
      "metadata": {
        "id": "o5jNIHneSfzg"
      }
    },
    {
      "cell_type": "markdown",
      "source": [
        "## Training Method 2 Code\n",
        "Your test code should be a stand alone code that must take `train_file`, `val_file`,  and `model_dir` as input. You could have other things as also input, but these three are must. You would load both files, and train using the `train_file` and validating using the `val_file`. You will `print` / `display`/ `plot` all performance metrics, loss(if available) and save the output model in the `model_dir`.\n",
        "\n",
        "Note that at the testing time, you need to use the same pre-processing and model. So, it would be good that you make those as seperate function/pipeline whichever it the best suited for your method. Don't copy-paste same code twice, make it a fucntion/class whichever is best. "
      ],
      "metadata": {
        "id": "zAkC0CWAc1BY"
      }
    },
    {
      "cell_type": "code",
      "source": [
        "def train_method2(train_file, val_file, model_dir):\n",
        "\n",
        "    # fetching the data using preprocess_data()\n",
        "    train_data = preprocess_data(train_file)\n",
        "    val_data = preprocess_data(val_file)\n",
        "\n",
        "    # Creating a pipeline to transform the data using TFID Vectorizer and using SVC as final estimator\n",
        "    pipeline = make_pipeline(TfidfVectorizer(), SVC())\n",
        "\n",
        "    # Fiting the pipeline on training data\n",
        "    pipeline.fit(train_data[\"tweet\"], train_data[\"label\"])\n",
        "\n",
        "    # Evaluating pipeline on validation data\n",
        "    val_acc = pipeline.score(val_data[\"tweet\"], val_data[\"label\"])\n",
        "    print(f\"Validation accuracy: {val_acc}\")\n",
        "\n",
        "    # Saving the model and vectorizer to the directory\n",
        "    try:\n",
        "        joblib.dump(pipeline, os.path.join(model_dir, \"model.joblib\"))\n",
        "        joblib.dump(pipeline.named_steps['tfidfvectorizer'], os.path.join(model_dir, \"vectorizer.joblib\"))\n",
        "        print(\"Model saved successfully.\")\n",
        "    except Exception as e:\n",
        "        print(\"Error saving model:\", e)\n",
        "\n",
        "    ##########################################################################\n",
        "    #                            END OF YOUR CODE                            #\n",
        "    ##########################################################################\n",
        "    return val_acc\n"
      ],
      "metadata": {
        "id": "JA7vbLnoc0b5"
      },
      "execution_count": 15,
      "outputs": []
    },
    {
      "cell_type": "markdown",
      "source": [
        "## Testing Method 2 Code\n",
        "Your test code should be a stand alone code that must take `test_file`, `model_file` and `output_dir` as input. You could have other things as also input, but these three are must. You would load both files, and generate output based on inputs. Then you will `print` / `display`/ `plot` all performance metrics, and save the output file in the `output_dir`  "
      ],
      "metadata": {
        "id": "LVi2vGeZc5Fp"
      }
    },
    {
      "cell_type": "code",
      "source": [
        "def test_method2(test_file, model_file, output_dir):\n",
        "\n",
        "    # Creating the model and vectorizer file path for the load function to load model\n",
        "    vectorizer_file = model_file\n",
        "    model_file = os.path.join(model_file,'model.joblib')\n",
        "    vectorizer = os.path.join(vectorizer_file,'vectorizer.joblib')\n",
        "\n",
        "    # Loading the saved SVM model and vectorizer\n",
        "    clf = joblib.load(model_file)\n",
        "    vectorizer = joblib.load(vectorizer)\n",
        "\n",
        "    # extraction of test data from drive and pre processing it\n",
        "    test_data = preprocess_data(test_file)\n",
        "\n",
        "    # Extracting the tweet and label data from the test set\n",
        "    test_tweet = test_data['tweet']\n",
        "    test_label = test_data['label']\n",
        "\n",
        "    # Converting the test tweets into a document-term matrix using the fitted TfidfVectorizer\n",
        "    test_tweet_matrix = vectorizer.transform(test_tweet)\n",
        "    \n",
        "    # Predicting the labels for the test set\n",
        "    test_pred = clf.predict(test_tweet)\n",
        "\n",
        "    # Creating a new column for predicted labels to test data DataFrame\n",
        "    test_data['output_label'] = test_pred\n",
        "\n",
        "    # Saving predictions to file with original column names and output label column\n",
        "    if not os.path.exists(output_dir):\n",
        "        os.makedirs(output_dir)\n",
        "    final_output = pd.DataFrame({'tweet': test_tweet, 'label': test_label, 'output label': test_pred})\n",
        "    final_output.to_csv(os.path.join(output_dir, 'output_test.csv'), sep='\\t', index=False)\n",
        "\n",
        "    f1_score_method2 = compute_performance(test_label, test_pred)\n",
        "    ##########################################################################\n",
        "    #                            END OF YOUR CODE                            #\n",
        "    ##########################################################################\n",
        "    return accuracy_score(test_label,test_pred), f1_score_method2"
      ],
      "metadata": {
        "id": "v477tmxOSlVj"
      },
      "execution_count": 16,
      "outputs": []
    },
    {
      "cell_type": "markdown",
      "source": [
        "## Method 2 End\n"
      ],
      "metadata": {
        "id": "4gNwyxXNSmVb"
      }
    },
    {
      "cell_type": "markdown",
      "source": [
        "# Other Method/model Start"
      ],
      "metadata": {
        "id": "rmaJfJkVwSDW"
      }
    },
    {
      "cell_type": "markdown",
      "source": [
        "### Code to run Train_method1 on different subset of train data"
      ],
      "metadata": {
        "id": "xKE6FrvvGt3e"
      }
    },
    {
      "cell_type": "code",
      "source": [
        "# your code\n",
        "train_files = ['train_1.csv', 'train_2.csv', 'train_3.csv', 'train_4.csv']\n",
        "val_file = os.path.join(GOOGLE_DRIVE_PATH, 'valid.csv')\n",
        "test_file = os.path.join(GOOGLE_DRIVE_PATH, \"test.csv\")\n",
        "model_directories = [MODEL_1_25_DIRECTORY, MODEL_1_50_DIRECTORY, MODEL_1_75_DIRECTORY, MODEL_1_100_DIRECTORY]\n",
        "\n",
        "val_accuracy_list = []\n",
        "\n",
        "for i, train_file in enumerate(train_files):\n",
        "    train_file_path = os.path.join(GOOGLE_DRIVE_PATH, train_file)\n",
        "    model_path = os.path.join(model_directories[i])\n",
        "    val_accuracy = train_method1(train_file_path, val_file, model_path)\n",
        "    val_accuracy_list.append(val_accuracy*100)\n",
        "\n",
        "print(\"Validation accuracies:\", val_accuracy_list)"
      ],
      "metadata": {
        "colab": {
          "base_uri": "https://localhost:8080/"
        },
        "id": "dvEmvDQUho5a",
        "outputId": "ea860714-7dc2-459b-a029-3400d3d6aaa4"
      },
      "execution_count": 17,
      "outputs": [
        {
          "output_type": "stream",
          "name": "stderr",
          "text": [
            "/usr/local/lib/python3.9/dist-packages/sklearn/ensemble/_base.py:166: FutureWarning: `base_estimator` was renamed to `estimator` in version 1.2 and will be removed in 1.4.\n",
            "  warnings.warn(\n"
          ]
        },
        {
          "output_type": "stream",
          "name": "stdout",
          "text": [
            "Model Saved Successfully.\n"
          ]
        },
        {
          "output_type": "stream",
          "name": "stderr",
          "text": [
            "/usr/local/lib/python3.9/dist-packages/sklearn/ensemble/_base.py:166: FutureWarning: `base_estimator` was renamed to `estimator` in version 1.2 and will be removed in 1.4.\n",
            "  warnings.warn(\n"
          ]
        },
        {
          "output_type": "stream",
          "name": "stdout",
          "text": [
            "Model Saved Successfully.\n"
          ]
        },
        {
          "output_type": "stream",
          "name": "stderr",
          "text": [
            "/usr/local/lib/python3.9/dist-packages/sklearn/ensemble/_base.py:166: FutureWarning: `base_estimator` was renamed to `estimator` in version 1.2 and will be removed in 1.4.\n",
            "  warnings.warn(\n"
          ]
        },
        {
          "output_type": "stream",
          "name": "stdout",
          "text": [
            "Model Saved Successfully.\n"
          ]
        },
        {
          "output_type": "stream",
          "name": "stderr",
          "text": [
            "/usr/local/lib/python3.9/dist-packages/sklearn/ensemble/_base.py:166: FutureWarning: `base_estimator` was renamed to `estimator` in version 1.2 and will be removed in 1.4.\n",
            "  warnings.warn(\n"
          ]
        },
        {
          "output_type": "stream",
          "name": "stdout",
          "text": [
            "Model Saved Successfully.\n",
            "Validation accuracies: [72.49190938511327, 71.19741100323624, 71.62891046386191, 71.62891046386191]\n"
          ]
        }
      ]
    },
    {
      "cell_type": "markdown",
      "source": [
        "### Code to run Test_method1"
      ],
      "metadata": {
        "id": "uucr08d8G21P"
      }
    },
    {
      "cell_type": "code",
      "source": [
        "test_file = os.path.join(GOOGLE_DRIVE_PATH, 'test.csv')\n",
        "\n",
        "model_directories = [MODEL_1_25_DIRECTORY, MODEL_1_50_DIRECTORY, MODEL_1_75_DIRECTORY, MODEL_1_100_DIRECTORY]\n",
        "\n",
        "test_accuracy_list = []\n",
        "f1_score_list = []\n",
        "\n",
        "for model_path in model_directories:\n",
        "    test_accuracy, f1_score_method1 = test_method1(test_file, model_path, model_path)\n",
        "    test_accuracy_list.append(test_accuracy*100)\n",
        "    f1_score_list.append(f1_score_method1*100)\n",
        "\n",
        "f1_score_avg = sum(f1_score_list)/len(f1_score_list)\n",
        "print(\"test accuracies:\", test_accuracy_list)\n",
        "print(\"Average F1 Score:\", f1_score_avg)"
      ],
      "metadata": {
        "colab": {
          "base_uri": "https://localhost:8080/",
          "height": 1000
        },
        "id": "DimCvTEnj7g5",
        "outputId": "2408bd35-76e1-4261-a18d-f1fc0d071714"
      },
      "execution_count": 18,
      "outputs": [
        {
          "output_type": "stream",
          "name": "stdout",
          "text": [
            "Accuracy: 0.7706\n",
            "Recall: 0.6622\n",
            "Precision: 0.7194\n",
            "F1 score: 0.6773\n"
          ]
        },
        {
          "output_type": "display_data",
          "data": {
            "text/plain": [
              "<Figure size 640x480 with 1 Axes>"
            ],
            "image/png": "[encoded data removed]"
          },
          "metadata": {}
        },
        {
          "output_type": "stream",
          "name": "stdout",
          "text": [
            "Accuracy: 0.7494\n",
            "Recall: 0.6450\n",
            "Precision: 0.6835\n",
            "F1 score: 0.6560\n"
          ]
        },
        {
          "output_type": "display_data",
          "data": {
            "text/plain": [
              "<Figure size 640x480 with 1 Axes>"
            ],
            "image/png": "[encoded data removed]"
          },
          "metadata": {}
        },
        {
          "output_type": "stream",
          "name": "stdout",
          "text": [
            "Accuracy: 0.7541\n",
            "Recall: 0.6469\n",
            "Precision: 0.6911\n",
            "F1 score: 0.6590\n"
          ]
        },
        {
          "output_type": "display_data",
          "data": {
            "text/plain": [
              "<Figure size 640x480 with 1 Axes>"
            ],
            "image/png": "[encoded data removed]"
          },
          "metadata": {}
        },
        {
          "output_type": "stream",
          "name": "stdout",
          "text": [
            "Accuracy: 0.7518\n",
            "Recall: 0.6453\n",
            "Precision: 0.6873\n",
            "F1 score: 0.6569\n"
          ]
        },
        {
          "output_type": "display_data",
          "data": {
            "text/plain": [
              "<Figure size 640x480 with 1 Axes>"
            ],
            "image/png": "[encoded data removed]"
          },
          "metadata": {}
        },
        {
          "output_type": "stream",
          "name": "stdout",
          "text": [
            "test accuracies: [77.05882352941177, 74.94117647058823, 75.41176470588236, 75.17647058823529]\n",
            "Average F1 Score: 66.22748925524836\n"
          ]
        }
      ]
    },
    {
      "cell_type": "markdown",
      "source": [
        "### Code to run Train_method2 on different train data subsets"
      ],
      "metadata": {
        "id": "fYZEa6kdG93L"
      }
    },
    {
      "cell_type": "code",
      "source": [
        "# your code\n",
        "train_files = ['train_1.csv', 'train_2.csv', 'train_3.csv', 'train_4.csv']\n",
        "val_file = os.path.join(GOOGLE_DRIVE_PATH, 'valid.csv')\n",
        "model_directories = [MODEL_2_25_DIRECTORY, MODEL_2_50_DIRECTORY, MODEL_2_75_DIRECTORY, MODEL_2_100_DIRECTORY]\n",
        "\n",
        "val_accuracy_list_method2 = []\n",
        "\n",
        "for i, train_file in enumerate(train_files):\n",
        "    train_file_path = os.path.join(GOOGLE_DRIVE_PATH, train_file)\n",
        "    print(train_file_path)\n",
        "    model_path = os.path.join(model_directories[i])\n",
        "    print(model_path)\n",
        "    val_accuracy = train_method2(train_file_path, val_file, model_path)\n",
        "    val_accuracy_list_method2.append(val_accuracy*100)\n",
        "\n",
        "print(\"Validation accuracies:\", val_accuracy_list_method2)"
      ],
      "metadata": {
        "id": "LQTmVWa5wdD3",
        "colab": {
          "base_uri": "https://localhost:8080/"
        },
        "outputId": "36254264-3809-4895-9ec5-6201168d8007"
      },
      "execution_count": 19,
      "outputs": [
        {
          "output_type": "stream",
          "name": "stdout",
          "text": [
            "gdrive/MyDrive/./CE807/Assignment2/2201389/train_1.csv\n",
            "gdrive/MyDrive/./CE807/Assignment2/2201389/models/2/25\n",
            "Validation accuracy: 0.7335490830636462\n",
            "Model saved successfully.\n",
            "gdrive/MyDrive/./CE807/Assignment2/2201389/train_2.csv\n",
            "gdrive/MyDrive/./CE807/Assignment2/2201389/models/2/50\n",
            "Validation accuracy: 0.7389428263214671\n",
            "Model saved successfully.\n",
            "gdrive/MyDrive/./CE807/Assignment2/2201389/train_3.csv\n",
            "gdrive/MyDrive/./CE807/Assignment2/2201389/models/2/75\n",
            "Validation accuracy: 0.7529665587918015\n",
            "Model saved successfully.\n",
            "gdrive/MyDrive/./CE807/Assignment2/2201389/train_4.csv\n",
            "gdrive/MyDrive/./CE807/Assignment2/2201389/models/2/100\n",
            "Validation accuracy: 0.7421790722761596\n",
            "Model saved successfully.\n",
            "Validation accuracies: [73.35490830636462, 73.89428263214671, 75.29665587918015, 74.21790722761597]\n"
          ]
        }
      ]
    },
    {
      "cell_type": "markdown",
      "source": [
        "### Code to run Test_method2 "
      ],
      "metadata": {
        "id": "UL6T_XO5HElt"
      }
    },
    {
      "cell_type": "code",
      "source": [
        "test_file = os.path.join(GOOGLE_DRIVE_PATH, 'test.csv')\n",
        "\n",
        "model_directories = [MODEL_2_25_DIRECTORY, MODEL_2_50_DIRECTORY, MODEL_2_75_DIRECTORY, MODEL_2_100_DIRECTORY]\n",
        "\n",
        "test_accuracy_list_method2 = []\n",
        "f1_score_list_method2 = []\n",
        "for model_path in model_directories:\n",
        "    test_accuracy, f1_score_method2 = test_method2(test_file, model_path, model_path)\n",
        "    test_accuracy_list_method2.append(test_accuracy*100)\n",
        "    f1_score_list_method2.append(f1_score_method2*100)\n",
        "\n",
        "f1_score_avg_method2 = sum(f1_score_list_method2)/len(f1_score_list_method2)\n",
        "print(\"test accuracies:\", test_accuracy_list_method2)\n",
        "print(\"Average F1 Score:\", f1_score_avg_method2)"
      ],
      "metadata": {
        "colab": {
          "base_uri": "https://localhost:8080/",
          "height": 1000
        },
        "id": "12nR2Ua3BpJ6",
        "outputId": "3c5f87b2-7b3b-4ea3-8e65-7fb6e003fdfe"
      },
      "execution_count": 20,
      "outputs": [
        {
          "output_type": "stream",
          "name": "stdout",
          "text": [
            "Accuracy: 0.7824\n",
            "Recall: 0.6165\n",
            "Precision: 0.8525\n",
            "F1 score: 0.6246\n"
          ]
        },
        {
          "output_type": "display_data",
          "data": {
            "text/plain": [
              "<Figure size 640x480 with 1 Axes>"
            ],
            "image/png": "[encoded data removed]"
          },
          "metadata": {}
        },
        {
          "output_type": "stream",
          "name": "stdout",
          "text": [
            "Accuracy: 0.7976\n",
            "Recall: 0.6502\n",
            "Precision: 0.8400\n",
            "F1 score: 0.6705\n"
          ]
        },
        {
          "output_type": "display_data",
          "data": {
            "text/plain": [
              "<Figure size 640x480 with 1 Axes>"
            ],
            "image/png": "[encoded data removed]"
          },
          "metadata": {}
        },
        {
          "output_type": "stream",
          "name": "stdout",
          "text": [
            "Accuracy: 0.7953\n",
            "Recall: 0.6524\n",
            "Precision: 0.8184\n",
            "F1 score: 0.6729\n"
          ]
        },
        {
          "output_type": "display_data",
          "data": {
            "text/plain": [
              "<Figure size 640x480 with 1 Axes>"
            ],
            "image/png": "[encoded data removed]"
          },
          "metadata": {}
        },
        {
          "output_type": "stream",
          "name": "stdout",
          "text": [
            "Accuracy: 0.8047\n",
            "Recall: 0.6680\n",
            "Precision: 0.8319\n",
            "F1 score: 0.6921\n"
          ]
        },
        {
          "output_type": "display_data",
          "data": {
            "text/plain": [
              "<Figure size 640x480 with 1 Axes>"
            ],
            "image/png": "[encoded data removed]"
          },
          "metadata": {}
        },
        {
          "output_type": "stream",
          "name": "stdout",
          "text": [
            "test accuracies: [78.23529411764706, 79.76470588235294, 79.52941176470588, 80.47058823529412]\n",
            "Average F1 Score: 66.50267215703457\n"
          ]
        }
      ]
    },
    {
      "cell_type": "markdown",
      "source": [
        "### Code to plot Accuracy vs Data size for both Validation and Test Accuracy for both the methods"
      ],
      "metadata": {
        "id": "B8fGuIDqHJXP"
      }
    },
    {
      "cell_type": "code",
      "source": [
        "import matplotlib.pyplot as plt\n",
        "\n",
        "def plot_accuracy(validation_accuracy, test_accuracy, method):\n",
        "    dataset_sizes = [25, 50, 75, 100]\n",
        "\n",
        "    # Plot validation accuracy\n",
        "    plt.plot(dataset_sizes, validation_accuracy, label='Validation Accuracy',\n",
        "             marker = \"o\")\n",
        "\n",
        "    # Plot test accuracy\n",
        "    plt.plot(dataset_sizes, test_accuracy, label='Test Accuracy',\n",
        "             marker = \"o\")\n",
        "\n",
        "    # Set the x and y axis labels and title\n",
        "    plt.xlabel('Dataset Size')\n",
        "    plt.ylabel('Accuracy')\n",
        "    plt.title('Accuracy vs Dataset Size for ' + method)\n",
        "\n",
        "    # Set the legend\n",
        "    plt.legend()\n",
        "\n",
        "    # Show the plot\n",
        "    plt.show()"
      ],
      "metadata": {
        "id": "b6A0E7lUj6CT"
      },
      "execution_count": 21,
      "outputs": []
    },
    {
      "cell_type": "code",
      "source": [
        "plot_accuracy(val_accuracy_list, test_accuracy_list, \"Method 1\")"
      ],
      "metadata": {
        "colab": {
          "base_uri": "https://localhost:8080/",
          "height": 472
        },
        "id": "ESyLdTV-8Ias",
        "outputId": "c03664d1-4734-4a1a-f346-fc8593ee7029"
      },
      "execution_count": 22,
      "outputs": [
        {
          "output_type": "display_data",
          "data": {
            "text/plain": [
              "<Figure size 640x480 with 1 Axes>"
            ],
            "image/png": "[encoded data removed]"
          },
          "metadata": {}
        }
      ]
    },
    {
      "cell_type": "code",
      "source": [
        "plot_accuracy(val_accuracy_list_method2, test_accuracy_list_method2, \"Method 2\")"
      ],
      "metadata": {
        "colab": {
          "base_uri": "https://localhost:8080/",
          "height": 472
        },
        "id": "tIdIzC6Y8USv",
        "outputId": "2f724778-a5ba-4347-92b9-6b22d917f452"
      },
      "execution_count": 23,
      "outputs": [
        {
          "output_type": "display_data",
          "data": {
            "text/plain": [
              "<Figure size 640x480 with 1 Axes>"
            ],
            "image/png": "[encoded data removed]"
          },
          "metadata": {}
        }
      ]
    },
    {
      "cell_type": "markdown",
      "source": [
        "##Other Method/model End"
      ],
      "metadata": {
        "id": "7yMswIeAwYIf"
      }
    }
  ]
}